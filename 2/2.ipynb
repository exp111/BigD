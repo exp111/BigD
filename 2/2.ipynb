{
 "cells": [
  {
   "cell_type": "markdown",
   "metadata": {},
   "source": [
    "## b)\n",
    "Laden Sie eine Textdatei Ihrer Wahl (hier die geolocation.csv aus dem Geolokationsdaten Experiment) in das HDFS. \n",
    "Implementieren Sie das PigLatinScript zum Wortzählen und führen es auf der Datei aus."
   ]
  },
  {
   "cell_type": "markdown",
   "metadata": {},
   "source": [
    "#### Laden der CSV Datei\n",
    "lines = LOAD '/user/maria_dev/hadoop/geolocation/geolocation.csv' AS (line:Chararray);\n",
    "#### Die Zeilen in Worte aufteilen (mithilfe von Tokenize und dem Delimiter ',') und in die Zeilen in einzelne Reihen aufteilen (mithilfe von Flatten)\n",
    "words = FOREACH lines GENERATE FLATTEN(TOKENIZE(line, ',')) AS word;\n",
    "\n",
    "#### In Wortgruppen aufteilen und dann diese zusammenzählen\n",
    "grouped = GROUP words BY word;\n",
    "wordCount = FOREACH grouped GENERATE group, COUNT(words) AS counter;\n",
    "\n",
    "#### Sortieren nach der Anzahl der Wörter\n",
    "ordered = ORDER wordCount BY counter DESC;\n",
    "\n",
    "#### Liste ausgeben\n",
    "DUMP ordered"
   ]
  },
  {
   "cell_type": "markdown",
   "metadata": {},
   "source": [
    "### Output:\n",
    "(0,15549)\n",
    "\n",
    "(California,8000)\n",
    "\n",
    "(normal,7543)\n",
    "\n",
    "(1,2294)\n",
    "\n",
    "(38.440467,1072)\n",
    "\n",
    "(-122.714431,1072)\n",
    "\n",
    "(Santa Rosa,1072)\n",
    "\n",
    "(-123.355566,529)\n",
    "\n",
    "..."
   ]
  },
  {
   "cell_type": "markdown",
   "metadata": {},
   "source": [
    "## c)\n",
    "Ergänzen Sie das Script so, dass es auch Statistiken ausgibt!"
   ]
  },
  {
   "cell_type": "markdown",
   "metadata": {},
   "source": [
    "#### Jede Zeile in ein Gruppe unterteilen\n",
    "groupedAll = GROUP wordCount ALL;\n",
    "\n",
    "#### Durch alle Gruppen durchgehen und den Durchschnitt, das Maximum und Minimum berechnen\n",
    "average = FOREACH groupedAll GENERATE AVG(wordCount.counter); \n",
    "dump average;\n",
    "\n",
    "maximum = FOREACH groupedAll GENERATE MAX(wordCount.counter);\n",
    "dump maximum;\n",
    "\n",
    "minimum = FOREACH groupedAll GENERATE MIN(wordCount.counter);\n",
    "dump minimum;"
   ]
  },
  {
   "cell_type": "markdown",
   "metadata": {},
   "source": [
    "### Output:\n",
    "(226.657223796034)\n",
    "\n",
    "(15549)\n",
    "\n",
    "(1)"
   ]
  }
 ],
 "metadata": {
  "kernelspec": {
   "display_name": "Python 2",
   "language": "python",
   "name": "python2"
  },
  "language_info": {
   "codemirror_mode": {
    "name": "ipython",
    "version": 2
   },
   "file_extension": ".py",
   "mimetype": "text/x-python",
   "name": "python",
   "nbconvert_exporter": "python",
   "pygments_lexer": "ipython2",
   "version": "2.7.16"
  }
 },
 "nbformat": 4,
 "nbformat_minor": 2
}
